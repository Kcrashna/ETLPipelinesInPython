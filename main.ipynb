{
 "cells": [
  {
   "cell_type": "code",
   "execution_count": null,
   "metadata": {},
   "outputs": [],
   "source": [
    "pip install pandas SQLAlchemy requests apache-airflow\n"
   ]
  },
  {
   "cell_type": "markdown",
   "metadata": {},
   "source": [
    "Load the data from csv"
   ]
  },
  {
   "cell_type": "code",
   "execution_count": 3,
   "metadata": {},
   "outputs": [],
   "source": [
    "import pandas as pd\n",
    "customer_df= pd.read_csv('customer_data.csv')\n",
    "order_df= pd.read_csv('order_data.csv')\n",
    "product_df= pd.read_csv('product_data.csv')"
   ]
  },
  {
   "cell_type": "markdown",
   "metadata": {},
   "source": [
    "Data Cleaning and normalization"
   ]
  },
  {
   "cell_type": "code",
   "execution_count": 5,
   "metadata": {},
   "outputs": [
    {
     "name": "stdout",
     "output_type": "stream",
     "text": [
      "(1000, 5)\n",
      "(1000, 11)\n",
      "(1000, 9)\n"
     ]
    }
   ],
   "source": [
    "print(customer_df.shape)\n",
    "print(order_df.shape)\n",
    "print(product_df.shape)"
   ]
  },
  {
   "cell_type": "code",
   "execution_count": 6,
   "metadata": {},
   "outputs": [
    {
     "name": "stdout",
     "output_type": "stream",
     "text": [
      "id            0\n",
      "first_name    0\n",
      "last_name     0\n",
      "email         0\n",
      "gender        0\n",
      "dtype: int64\n",
      "order_id          0\n",
      "customer_id       0\n",
      "product_id        0\n",
      "quantity          0\n",
      "unit_price        0\n",
      "total_price       0\n",
      "discount          0\n",
      "order_date        0\n",
      "payment_method    0\n",
      "shipping_cost     0\n",
      "status            0\n",
      "dtype: int64\n",
      "product_id        0\n",
      "category          0\n",
      "brand             0\n",
      "price             0\n",
      "stock_quantity    0\n",
      "rating            0\n",
      "created_at        0\n",
      "updated_at        0\n",
      "supplier_id       0\n",
      "dtype: int64\n"
     ]
    }
   ],
   "source": [
    "print(customer_df.isnull().sum())\n",
    "print(order_df.isnull().sum())\n",
    "print(product_df.isnull().sum())    "
   ]
  },
  {
   "cell_type": "markdown",
   "metadata": {},
   "source": [
    "Type Conversion"
   ]
  },
  {
   "cell_type": "code",
   "execution_count": 8,
   "metadata": {},
   "outputs": [],
   "source": [
    "order_df['order_date'] = pd.to_datetime(order_df['order_date'])\n",
    "order_df['total_price'] = order_df['total_price'].astype(float)\n"
   ]
  },
  {
   "cell_type": "markdown",
   "metadata": {},
   "source": [
    "Verifying the relationships(e.g. all the product_ids in oredr should exist in in product_df and all customer_ids in order should exist in customer_df)"
   ]
  },
  {
   "cell_type": "code",
   "execution_count": 10,
   "metadata": {},
   "outputs": [],
   "source": [
    "import numpy as np\n",
    "order_df['customer_id'] = np.random.choice(customer_df['id'], size=len(order_df))"
   ]
  },
  {
   "cell_type": "code",
   "execution_count": 11,
   "metadata": {},
   "outputs": [],
   "source": [
    "order_df = order_df[order_df['product_id'].isin(product_df['product_id'])]\n",
    "order_df = order_df[order_df['customer_id'].isin(customer_df['id'])]"
   ]
  },
  {
   "cell_type": "markdown",
   "metadata": {},
   "source": [
    "Adding a column average_order_value per customer"
   ]
  },
  {
   "cell_type": "code",
   "execution_count": 15,
   "metadata": {},
   "outputs": [
    {
     "name": "stdout",
     "output_type": "stream",
     "text": [
      "   id first_name   last_name                    email      gender   \n",
      "0   1       Dari     Breslin      dbreslin0@mysql.com      Female  \\\n",
      "1   2     Errick     Lovekin   elovekin1@addtoany.com        Male   \n",
      "2   3   Christan  McTurlough  cmcturlough2@rambler.ru      Female   \n",
      "3   4   Gertruda      Loseby      gloseby3@cdbaby.com      Female   \n",
      "4   5       Rosy     Goundry        rgoundry4@icio.us  Non-binary   \n",
      "\n",
      "   average_order_value  \n",
      "0                  NaN  \n",
      "1                 72.5  \n",
      "2                 31.0  \n",
      "3                  NaN  \n",
      "4                 90.0  \n"
     ]
    }
   ],
   "source": [
    "customer_df['average_order_value'] = order_df.groupby('customer_id')['total_price'].mean()\n",
    "print(customer_df.head())"
   ]
  },
  {
   "cell_type": "code",
   "execution_count": 18,
   "metadata": {},
   "outputs": [
    {
     "data": {
      "text/plain": [
       "0"
      ]
     },
     "execution_count": 18,
     "metadata": {},
     "output_type": "execute_result"
    }
   ],
   "source": [
    "customer_df['average_order_value'].isnull().sum()"
   ]
  },
  {
   "cell_type": "code",
   "execution_count": 17,
   "metadata": {},
   "outputs": [],
   "source": [
    "x=customer_df['average_order_value'].mean()\n",
    "customer_df['average_order_value'].fillna(x, inplace=True)"
   ]
  },
  {
   "cell_type": "markdown",
   "metadata": {},
   "source": [
    "Insert"
   ]
  },
  {
   "cell_type": "markdown",
   "metadata": {},
   "source": []
  },
  {
   "cell_type": "code",
   "execution_count": null,
   "metadata": {},
   "outputs": [],
   "source": []
  }
 ],
 "metadata": {
  "kernelspec": {
   "display_name": "Python 3",
   "language": "python",
   "name": "python3"
  },
  "language_info": {
   "codemirror_mode": {
    "name": "ipython",
    "version": 3
   },
   "file_extension": ".py",
   "mimetype": "text/x-python",
   "name": "python",
   "nbconvert_exporter": "python",
   "pygments_lexer": "ipython3",
   "version": "3.11.3"
  }
 },
 "nbformat": 4,
 "nbformat_minor": 2
}
